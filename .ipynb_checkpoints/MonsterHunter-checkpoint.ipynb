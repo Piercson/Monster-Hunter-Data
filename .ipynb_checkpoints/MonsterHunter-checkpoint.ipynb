{
 "cells": [
  {
   "cell_type": "code",
   "execution_count": 1,
   "metadata": {},
   "outputs": [],
   "source": [
    "import pandas as pd\n",
    "import numpy as np\n",
    "import matplotlib.pyplot as plt"
   ]
  },
  {
   "cell_type": "markdown",
   "metadata": {},
   "source": [
    "# Preamble\n",
    "With the anticipation of Monster Hunter Rise, I wanted to take a look at the previous games in the Monster Hunter series. The Monster Hunter is a series of video games made by Capcom that you play as a hunter that hunts various different and unique monsters. Each new installment brings new Monsters, new ways to hunt the monsters and also brings older monsters from previous games. \n",
    "\n",
    "| Generation 1 | Generation 2 | Generation 3 | Generation 4 | Generation 5 |\n",
    "|:------------:|:------------:|:------------:|:------------:|:------------:|\n",
    "|Monster Hunter|Monster Hunter Freedom 2|Monster Hunter 3|Monster Hunter 4|Monster Hunter: World|\n",
    "|Monster Hunter Freedom|Monster Hunter Freedom Unite|Monster Hunter 3 Ultmate|Monster Hunter 4 Ultimate|Monster Hunter: Icebourn|\n",
    "|              |              |Monster Hunter Portable 3rd|Monster Hunter Generation|Monster Hunter Rise|\n",
    "|              |              |Monster Hunter Portable 3rd|Monster Hunter Generation Ultimate|          |"
   ]
  },
  {
   "cell_type": "code",
   "execution_count": 5,
   "metadata": {},
   "outputs": [
    {
     "ename": "NameError",
     "evalue": "name 'pd' is not defined",
     "output_type": "error",
     "traceback": [
      "\u001b[1;31m---------------------------------------------------------------------------\u001b[0m",
      "\u001b[1;31mNameError\u001b[0m                                 Traceback (most recent call last)",
      "\u001b[1;32m<ipython-input-5-9019d6dfb47d>\u001b[0m in \u001b[0;36m<module>\u001b[1;34m\u001b[0m\n\u001b[1;32m----> 1\u001b[1;33m \u001b[0mclasses\u001b[0m \u001b[1;33m=\u001b[0m \u001b[0mpd\u001b[0m\u001b[1;33m.\u001b[0m\u001b[0mread_csv\u001b[0m\u001b[1;33m(\u001b[0m\u001b[1;34m'Monster_Classes.csv'\u001b[0m\u001b[1;33m)\u001b[0m\u001b[1;33m\u001b[0m\u001b[1;33m\u001b[0m\u001b[0m\n\u001b[0m\u001b[0;32m      2\u001b[0m \u001b[0mg_data\u001b[0m \u001b[1;33m=\u001b[0m \u001b[0mpd\u001b[0m\u001b[1;33m.\u001b[0m\u001b[0mread_csv\u001b[0m\u001b[1;33m(\u001b[0m\u001b[1;34m'MonsterHunter_General_Data.csv'\u001b[0m\u001b[1;33m)\u001b[0m\u001b[1;33m\u001b[0m\u001b[1;33m\u001b[0m\u001b[0m\n\u001b[0;32m      3\u001b[0m \u001b[0mm_games\u001b[0m \u001b[1;33m=\u001b[0m \u001b[0mpd\u001b[0m\u001b[1;33m.\u001b[0m\u001b[0mread_csv\u001b[0m\u001b[1;33m(\u001b[0m\u001b[1;34m'Monsters_in_Games.csv'\u001b[0m\u001b[1;33m)\u001b[0m\u001b[1;33m\u001b[0m\u001b[1;33m\u001b[0m\u001b[0m\n",
      "\u001b[1;31mNameError\u001b[0m: name 'pd' is not defined"
     ]
    }
   ],
   "source": [
    "classes = pd.read_csv('Monster_Classes.csv')\n",
    "g_data = pd.read_csv('MonsterHunter_General_Data.csv')\n",
    "m_games = pd.read_csv('Monsters_in_Games.csv')"
   ]
  },
  {
   "cell_type": "markdown",
   "metadata": {},
   "source": [
    "# Clean Data\n",
    "#### need to reorganize m_games to it can be joined"
   ]
  },
  {
   "cell_type": "code",
   "execution_count": 3,
   "metadata": {},
   "outputs": [],
   "source": [
    "monsters_in_games = m_games.melt(var_name = 'Title', value_name = 'Name')\n",
    "monsters_in_games = monsters_in_games[ monsters_in_games['Name'].notnull() ]\n",
    "\n",
    "g_data['Country Released'] = g_data['Country Released'].fillna('North America')"
   ]
  },
  {
   "cell_type": "code",
   "execution_count": 4,
   "metadata": {},
   "outputs": [
    {
     "data": {
      "text/html": [
       "<div>\n",
       "<style scoped>\n",
       "    .dataframe tbody tr th:only-of-type {\n",
       "        vertical-align: middle;\n",
       "    }\n",
       "\n",
       "    .dataframe tbody tr th {\n",
       "        vertical-align: top;\n",
       "    }\n",
       "\n",
       "    .dataframe thead th {\n",
       "        text-align: right;\n",
       "    }\n",
       "</style>\n",
       "<table border=\"1\" class=\"dataframe\">\n",
       "  <thead>\n",
       "    <tr style=\"text-align: right;\">\n",
       "      <th></th>\n",
       "      <th>Name</th>\n",
       "      <th>Type</th>\n",
       "      <th>Size</th>\n",
       "      <th>Title</th>\n",
       "      <th>Country Released</th>\n",
       "      <th>Date Released</th>\n",
       "      <th>Generation</th>\n",
       "      <th>Director</th>\n",
       "      <th>Console</th>\n",
       "    </tr>\n",
       "  </thead>\n",
       "  <tbody>\n",
       "    <tr>\n",
       "      <th>0</th>\n",
       "      <td>Abyssal Lagiacrus</td>\n",
       "      <td>Leviathan</td>\n",
       "      <td>Large</td>\n",
       "      <td>Monster Hunter 3 Ultimate</td>\n",
       "      <td>JPN</td>\n",
       "      <td>2011-12-10</td>\n",
       "      <td>3</td>\n",
       "      <td>Kaname Fujioka</td>\n",
       "      <td>3DS</td>\n",
       "    </tr>\n",
       "    <tr>\n",
       "      <th>1</th>\n",
       "      <td>Abyssal Lagiacrus</td>\n",
       "      <td>Leviathan</td>\n",
       "      <td>Large</td>\n",
       "      <td>Monster Hunter 3 Ultimate</td>\n",
       "      <td>North America</td>\n",
       "      <td>2013-03-19</td>\n",
       "      <td>3</td>\n",
       "      <td>Kaname Fujioka</td>\n",
       "      <td>3DS</td>\n",
       "    </tr>\n",
       "    <tr>\n",
       "      <th>2</th>\n",
       "      <td>Agnaktor</td>\n",
       "      <td>Leviathan</td>\n",
       "      <td>Large</td>\n",
       "      <td>Monster Hunter 3 Ultimate</td>\n",
       "      <td>JPN</td>\n",
       "      <td>2011-12-10</td>\n",
       "      <td>3</td>\n",
       "      <td>Kaname Fujioka</td>\n",
       "      <td>3DS</td>\n",
       "    </tr>\n",
       "    <tr>\n",
       "      <th>3</th>\n",
       "      <td>Agnaktor</td>\n",
       "      <td>Leviathan</td>\n",
       "      <td>Large</td>\n",
       "      <td>Monster Hunter 3 Ultimate</td>\n",
       "      <td>North America</td>\n",
       "      <td>2013-03-19</td>\n",
       "      <td>3</td>\n",
       "      <td>Kaname Fujioka</td>\n",
       "      <td>3DS</td>\n",
       "    </tr>\n",
       "    <tr>\n",
       "      <th>4</th>\n",
       "      <td>Alatreon</td>\n",
       "      <td>Elder Dragon</td>\n",
       "      <td>Large</td>\n",
       "      <td>Monster Hunter 3 Ultimate</td>\n",
       "      <td>JPN</td>\n",
       "      <td>2011-12-10</td>\n",
       "      <td>3</td>\n",
       "      <td>Kaname Fujioka</td>\n",
       "      <td>3DS</td>\n",
       "    </tr>\n",
       "    <tr>\n",
       "      <th>...</th>\n",
       "      <td>...</td>\n",
       "      <td>...</td>\n",
       "      <td>...</td>\n",
       "      <td>...</td>\n",
       "      <td>...</td>\n",
       "      <td>...</td>\n",
       "      <td>...</td>\n",
       "      <td>...</td>\n",
       "      <td>...</td>\n",
       "    </tr>\n",
       "    <tr>\n",
       "      <th>2383</th>\n",
       "      <td>Vespoid</td>\n",
       "      <td>Neopteron</td>\n",
       "      <td>Small</td>\n",
       "      <td>Monster Hunter Freedom</td>\n",
       "      <td>North America</td>\n",
       "      <td>2006-05-23</td>\n",
       "      <td>1</td>\n",
       "      <td>Yasunori Ichinose</td>\n",
       "      <td>Playstation Portable</td>\n",
       "    </tr>\n",
       "    <tr>\n",
       "      <th>2384</th>\n",
       "      <td>White Monoblos</td>\n",
       "      <td>Flying Wyvern</td>\n",
       "      <td>Large</td>\n",
       "      <td>Monster Hunter Freedom</td>\n",
       "      <td>JPN</td>\n",
       "      <td>2005-12-01</td>\n",
       "      <td>1</td>\n",
       "      <td>Yasunori Ichinose</td>\n",
       "      <td>Playstation Portable</td>\n",
       "    </tr>\n",
       "    <tr>\n",
       "      <th>2385</th>\n",
       "      <td>White Monoblos</td>\n",
       "      <td>Flying Wyvern</td>\n",
       "      <td>Large</td>\n",
       "      <td>Monster Hunter Freedom</td>\n",
       "      <td>North America</td>\n",
       "      <td>2006-05-23</td>\n",
       "      <td>1</td>\n",
       "      <td>Yasunori Ichinose</td>\n",
       "      <td>Playstation Portable</td>\n",
       "    </tr>\n",
       "    <tr>\n",
       "      <th>2386</th>\n",
       "      <td>Yian Kut-Ku</td>\n",
       "      <td>Bird Wyvern</td>\n",
       "      <td>Large</td>\n",
       "      <td>Monster Hunter Freedom</td>\n",
       "      <td>JPN</td>\n",
       "      <td>2005-12-01</td>\n",
       "      <td>1</td>\n",
       "      <td>Yasunori Ichinose</td>\n",
       "      <td>Playstation Portable</td>\n",
       "    </tr>\n",
       "    <tr>\n",
       "      <th>2387</th>\n",
       "      <td>Yian Kut-Ku</td>\n",
       "      <td>Bird Wyvern</td>\n",
       "      <td>Large</td>\n",
       "      <td>Monster Hunter Freedom</td>\n",
       "      <td>North America</td>\n",
       "      <td>2006-05-23</td>\n",
       "      <td>1</td>\n",
       "      <td>Yasunori Ichinose</td>\n",
       "      <td>Playstation Portable</td>\n",
       "    </tr>\n",
       "  </tbody>\n",
       "</table>\n",
       "<p>2388 rows × 9 columns</p>\n",
       "</div>"
      ],
      "text/plain": [
       "                   Name           Type   Size                      Title  \\\n",
       "0     Abyssal Lagiacrus      Leviathan  Large  Monster Hunter 3 Ultimate   \n",
       "1     Abyssal Lagiacrus      Leviathan  Large  Monster Hunter 3 Ultimate   \n",
       "2              Agnaktor      Leviathan  Large  Monster Hunter 3 Ultimate   \n",
       "3              Agnaktor      Leviathan  Large  Monster Hunter 3 Ultimate   \n",
       "4              Alatreon   Elder Dragon  Large  Monster Hunter 3 Ultimate   \n",
       "...                 ...            ...    ...                        ...   \n",
       "2383            Vespoid      Neopteron  Small     Monster Hunter Freedom   \n",
       "2384     White Monoblos  Flying Wyvern  Large     Monster Hunter Freedom   \n",
       "2385     White Monoblos  Flying Wyvern  Large     Monster Hunter Freedom   \n",
       "2386        Yian Kut-Ku    Bird Wyvern  Large     Monster Hunter Freedom   \n",
       "2387        Yian Kut-Ku    Bird Wyvern  Large     Monster Hunter Freedom   \n",
       "\n",
       "     Country Released Date Released  Generation           Director  \\\n",
       "0                 JPN    2011-12-10           3     Kaname Fujioka   \n",
       "1       North America    2013-03-19           3     Kaname Fujioka   \n",
       "2                 JPN    2011-12-10           3     Kaname Fujioka   \n",
       "3       North America    2013-03-19           3     Kaname Fujioka   \n",
       "4                 JPN    2011-12-10           3     Kaname Fujioka   \n",
       "...               ...           ...         ...                ...   \n",
       "2383    North America    2006-05-23           1  Yasunori Ichinose   \n",
       "2384              JPN    2005-12-01           1  Yasunori Ichinose   \n",
       "2385    North America    2006-05-23           1  Yasunori Ichinose   \n",
       "2386              JPN    2005-12-01           1  Yasunori Ichinose   \n",
       "2387    North America    2006-05-23           1  Yasunori Ichinose   \n",
       "\n",
       "                   Console  \n",
       "0                      3DS  \n",
       "1                      3DS  \n",
       "2                      3DS  \n",
       "3                      3DS  \n",
       "4                      3DS  \n",
       "...                    ...  \n",
       "2383  Playstation Portable  \n",
       "2384  Playstation Portable  \n",
       "2385  Playstation Portable  \n",
       "2386  Playstation Portable  \n",
       "2387  Playstation Portable  \n",
       "\n",
       "[2388 rows x 9 columns]"
      ]
     },
     "execution_count": 4,
     "metadata": {},
     "output_type": "execute_result"
    }
   ],
   "source": [
    "df = pd.merge(classes, monsters_in_games, on='Name')\n",
    "mh_data = pd.merge(df, g_data, on='Title')\n",
    "mh_data['Date Released']= pd.to_datetime(mh_data['Date Released'])\n",
    "mh_data"
   ]
  },
  {
   "cell_type": "code",
   "execution_count": null,
   "metadata": {},
   "outputs": [],
   "source": []
  },
  {
   "cell_type": "code",
   "execution_count": 35,
   "metadata": {},
   "outputs": [],
   "source": [
    "analysis_titles = pd.DataFrame(\n",
    "    {\"Base\": pd.Series(['Monster Hunter','Monster Hunter Freedom 2', 'Monster Hunter 3', 'Monster Hunter Portable 3rd',\n",
    "              'Monster Hunter 4','Monster Hunter Generations', 'Monster Hunter: World', 'Monster Hunter Rise',]),\n",
    "     \"Ultimate\": pd.Series(['Monster Hunter Freedom', 'Monster Hunter Freedom Unite', 'Monster Hunter 3 Ultimate', np.nan, \n",
    "            'Monster Hunter 4 Ultimate', 'Monster Hunter Generations Ultimate', 'Monster Hunter World: Iceborne', np.nan,])})\n",
    "\n",
    "analysis_titles = analysis_titles['Base'].append(analysis_titles['Ultimate']).dropna()\n",
    "titles_search_data = mh_data\n",
    "valid_titles = mh_data[['Title','Generation']].drop_duplicates().sort_values(by=['Generation','Title'])\n",
    "valid_titles = valid_titles[valid_titles['Title'].isin(analysis_titles) == True]\n",
    "valid_titles = valid_titles.groupby(['Generation']).agg(list)\n",
    "output = []\n",
    "\n",
    "for row in valid_titles.iterrows():\n",
    "    labels = []\n",
    "    amt_monsters = []\n",
    "    large_monters = []\n",
    "    small_monsters = []\n",
    "    total_new_monsters = []\n",
    "    new_large_monsters = []\n",
    "    new_small_monsters = []\n",
    "    for title in row[1][0]:\n",
    "        filter_title = titles_search_data['Title'] == title\n",
    "        filter_region =  mh_data['Country Released'] == 'North America'\n",
    "        title_region_data = titles_search_data.where(filter_title).dropna()['Date Released'].drop_duplicates()\n",
    "        date = max(title_region_data.to_list())\n",
    "        older_titles = mh_data['Date Released'] < date\n",
    "        \n",
    "        monsters_from_prev_games = titles_search_data.where(filter_region & older_titles).dropna()[['Name','Type','Size']].drop_duplicates()\n",
    "        monsters_in_title = titles_search_data.where(filter_title).dropna()[['Name','Size']].drop_duplicates()\n",
    "        new_monsters = monsters_in_title[monsters_in_title['Name'].isin(monsters_from_prev_games['Name']) == False]\n",
    "        title_data = titles_search_data.where(filter_title).dropna()[['Name','Size']].drop_duplicates()\n",
    "        \n",
    "        labels.append(title)\n",
    "        amt_monsters.append( title_data['Name'].drop_duplicates().count() )\n",
    "        large_monters.append( title_data.groupby(['Size']).size().Large )\n",
    "        small_monsters.append( title_data.groupby(['Size']).size().Small )\n",
    "        total_new_monsters.append( new_monsters['Name'].count() )\n",
    "        try:\n",
    "            new_large_monsters.append( new_monsters.groupby(['Size']).size().Large )\n",
    "        except:\n",
    "            new_large_monsters.append( 0 )\n",
    "        try:\n",
    "            new_small_monsters.append( new_monsters.groupby(['Size']).size().Small )\n",
    "        except:\n",
    "            new_small_monsters.append( 0 )\n",
    "    output.append( [labels,amt_monsters,large_monters,small_monsters,total_new_monsters,new_large_monsters,new_small_monsters] )   "
   ]
  },
  {
   "cell_type": "code",
   "execution_count": 36,
   "metadata": {},
   "outputs": [
    {
     "data": {
      "text/plain": [
       "<Figure size 800x640 with 0 Axes>"
      ]
     },
     "metadata": {},
     "output_type": "display_data"
    },
    {
     "data": {
      "text/plain": [
       "<Figure size 800x640 with 0 Axes>"
      ]
     },
     "metadata": {},
     "output_type": "display_data"
    },
    {
     "data": {
      "text/plain": [
       "<Figure size 800x640 with 0 Axes>"
      ]
     },
     "metadata": {},
     "output_type": "display_data"
    },
    {
     "data": {
      "text/plain": [
       "<Figure size 800x640 with 0 Axes>"
      ]
     },
     "metadata": {},
     "output_type": "display_data"
    },
    {
     "data": {
      "text/plain": [
       "<Figure size 800x640 with 0 Axes>"
      ]
     },
     "metadata": {},
     "output_type": "display_data"
    }
   ],
   "source": [
    "def alter_title(title):\n",
    "    return title[:15] + '\\n' + title[15:]\n",
    "width = 0.25\n",
    "i = 1\n",
    "for gen in output:\n",
    "    str_g = \"Generation %s \" % i\n",
    "    labels = gen[0]\n",
    "    amt_monsters = gen[1]\n",
    "    large_monters = gen[2]\n",
    "    small_monsters = gen[3]\n",
    "    total_new_monsters = gen[4]\n",
    "    new_large_monsters = gen[5]\n",
    "    new_small_monsters = gen[6]\n",
    "    rects1 = np.arange(len(labels))\n",
    "    rects2 = [x + width for x in rects1]\n",
    "    rects3 = [x + width for x in rects2]\n",
    "    rects4 = rects1\n",
    "    rects5 = rects2\n",
    "    rects6 = rects3\n",
    "    \n",
    "    plt.style.use('fivethirtyeight')\n",
    "    plt.figure(figsize=(10, 8), dpi=80)\n",
    "    plt.bar(rects1, amt_monsters, width=width,edgecolor='white', label='Total Monsters')\n",
    "    plt.bar(rects2, large_monters, width=width,edgecolor='white', label='Large Monsters')\n",
    "    plt.bar(rects3, small_monsters, width=width,edgecolor='white', label='Small Monsters')\n",
    "    plt.bar(rects4, total_new_monsters, width=width,edgecolor='white', label='New Monsters')\n",
    "    plt.bar(rects5, new_large_monsters, width=width,edgecolor='white', label='New Large Monsters')\n",
    "    plt.bar(rects6, new_small_monsters, width=width,edgecolor='white', label='New Small Monsters')\n",
    "    labels = map(alter_title, labels)\n",
    "    plt.title(str_g)\n",
    "    plt.xticks([r + width for r in range(len(amt_monsters))], labels)\n",
    "    plt.legend()\n",
    "    plt.savefig(\"Figures/amt_monsters_\" + str_g.replace(\" \",\"\") + \".png\")\n",
    "    plt.clf()\n",
    "    i = i + 1"
   ]
  },
  {
   "cell_type": "code",
   "execution_count": null,
   "metadata": {},
   "outputs": [],
   "source": []
  },
  {
   "cell_type": "code",
   "execution_count": null,
   "metadata": {},
   "outputs": [],
   "source": []
  },
  {
   "cell_type": "code",
   "execution_count": null,
   "metadata": {},
   "outputs": [],
   "source": []
  },
  {
   "cell_type": "code",
   "execution_count": null,
   "metadata": {},
   "outputs": [],
   "source": []
  },
  {
   "cell_type": "code",
   "execution_count": null,
   "metadata": {},
   "outputs": [],
   "source": []
  }
 ],
 "metadata": {
  "kernelspec": {
   "display_name": "Python 3",
   "language": "python",
   "name": "python3"
  },
  "language_info": {
   "codemirror_mode": {
    "name": "ipython",
    "version": 3
   },
   "file_extension": ".py",
   "mimetype": "text/x-python",
   "name": "python",
   "nbconvert_exporter": "python",
   "pygments_lexer": "ipython3",
   "version": "3.7.6"
  }
 },
 "nbformat": 4,
 "nbformat_minor": 4
}
